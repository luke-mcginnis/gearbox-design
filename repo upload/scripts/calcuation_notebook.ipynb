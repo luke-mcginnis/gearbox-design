{
 "cells": [
  {
   "cell_type": "code",
   "execution_count": 2,
   "id": "71296166-efbd-47b2-bc36-7040b2e98fdb",
   "metadata": {},
   "outputs": [],
   "source": [
    "import sympy as sp\n",
    "from sympy import sin, cos, tan, atan, symbols, nsolve, solve, Eq, pi, sqrt\n",
    "from sympy.physics import units as u\n",
    "import matplotlib\n",
    "sp.init_printing()"
   ]
  },
  {
   "cell_type": "code",
   "execution_count": 3,
   "id": "3ba56d9d",
   "metadata": {},
   "outputs": [],
   "source": [
    "def rad(degrees):\n",
    "    return degrees / 180 * pi"
   ]
  },
  {
   "cell_type": "markdown",
   "id": "4d93d3f6",
   "metadata": {},
   "source": [
    "## Checking Helical Gear Interference:\n",
    "Uses formulas 13-19 and 13-25. Solves for maximum gear tooth count."
   ]
  },
  {
   "cell_type": "code",
   "execution_count": 4,
   "id": "6cfe7c90-b378-4f07-ab92-de1cb7d93ef1",
   "metadata": {},
   "outputs": [
    {
     "data": {
      "image/png": "[encoded data removed]",
      "text/latex": [
       "$\\displaystyle -26.4473547122735$"
      ],
      "text/plain": [
       "-26.4473547122735"
      ]
     },
     "execution_count": 4,
     "metadata": {},
     "output_type": "execute_result"
    }
   ],
   "source": [
    "pinion_tooth_count, k, helix_angle, normal_pa = symbols('N_P k psi phi_n')\n",
    "phi_t = atan(tan(rad(normal_pa))/cos(rad(helix_angle)))\n",
    "N_G = (pinion_tooth_count**2*sin(phi_t)**2 - 4*k**2*cos(rad(helix_angle))**2) / (-2*pinion_tooth_count*sin(phi_t)**2 + 4*k*cos(rad(helix_angle)))\n",
    "\n",
    "N_G.subs({normal_pa: 20,\n",
    "          helix_angle: 30,\n",
    "          k: 1, \n",
    "          pinion_tooth_count: 16}).evalf()"
   ]
  },
  {
   "cell_type": "code",
   "execution_count": 5,
   "id": "e14ac169",
   "metadata": {},
   "outputs": [
    {
     "data": {
      "image/png": "[encoded data removed]",
      "text/latex": [
       "$\\displaystyle 34.8542016834407$"
      ],
      "text/plain": [
       "34.8542016834407"
      ]
     },
     "execution_count": 5,
     "metadata": {},
     "output_type": "execute_result"
    }
   ],
   "source": [
    "# Now solving for min helix angle to allow for gear numbers.\n",
    "pinion, gear = 8, 12 # Target tooth counts.\n",
    "my_eq = Eq(gear, N_G.subs({normal_pa: 20,\n",
    "           k: 1, \n",
    "           pinion_tooth_count: pinion}))\n",
    "\n",
    "nsolve(my_eq, helix_angle, 40)"
   ]
  },
  {
   "cell_type": "markdown",
   "id": "84f7c3f0",
   "metadata": {},
   "source": [
    "## Approximating diametrial pitch\n",
    "Uses formula 14-8 and solves for diametrial pitch $P$."
   ]
  },
  {
   "cell_type": "code",
   "execution_count": 6,
   "id": "15d3597c",
   "metadata": {},
   "outputs": [
    {
     "name": "stdout",
     "output_type": "stream",
     "text": [
      "Nonconservative estimate of `P` : 5.338 teeth/inch\n",
      "Conservative estimate of `P`    : 1.891 teeth/inch\n"
     ]
    }
   ],
   "source": [
    "\n",
    "tooth_count = 16\n",
    "rpm = 310.2\n",
    "power = 135 * 33000 # convert 135 hp to ft*lbf/min\n",
    "\n",
    "diametral_pitch, face_width, lewis_ff, stress, velocity_f, t_force = symbols('P F Y sigma K_v W_t') \n",
    "pitch_line_velocity = rpm * tooth_count / 2 / diametral_pitch * 2 * pi / 12 \n",
    "\n",
    "eq_14_8 = Eq(diametral_pitch, face_width * lewis_ff * stress / velocity_f / t_force)\n",
    "\n",
    "# Values to obtain a lower bound of `P`\n",
    "conservative_values = {face_width: 3 * pi/diametral_pitch,\n",
    "                       lewis_ff: 0.24,\n",
    "                       stress: 22e3, # psi\n",
    "                       velocity_f: (600+pitch_line_velocity)/600,\n",
    "                       t_force: power / pitch_line_velocity}\n",
    "\n",
    "# Values to obtain a upper bound of `P`\n",
    "nonconservative_values = {face_width: 5 * pi/diametral_pitch,\n",
    "                       lewis_ff: 0.485,\n",
    "                       stress: 75e3, # psi\n",
    "                       velocity_f: sqrt((78 + sqrt(pitch_line_velocity))/78),\n",
    "                       t_force: power / pitch_line_velocity}\n",
    "\n",
    "conservative_P = sp.nsolve(eq_14_8.subs(conservative_values), diametral_pitch, 2)\n",
    "nonconservative_P = sp.nsolve(eq_14_8.subs(nonconservative_values), diametral_pitch, 4)\n",
    "\n",
    "print(f'Nonconservative estimate of `P` : {nonconservative_P:.3f} teeth/inch')\n",
    "print(f'Conservative estimate of `P`    : {conservative_P:.3f} teeth/inch')"
   ]
  },
  {
   "cell_type": "markdown",
   "id": "eae1d6d3",
   "metadata": {},
   "source": [
    "# Shaft Life Calculations\n",
    "Solving for min diameter $d$.\n",
    "\n",
    "Starting with shaft C with gears 4 and 5:"
   ]
  },
  {
   "cell_type": "code",
   "execution_count": null,
   "id": "e7cd5579",
   "metadata": {},
   "outputs": [
    {
     "data": {
      "image/png": "[encoded data removed]",
      "text/latex": [
       "$\\displaystyle 2161.09955477793 \\text{lbf}$"
      ],
      "text/plain": [
       "2161.09955477793⋅lbf"
      ]
     },
     "execution_count": 36,
     "metadata": {},
     "output_type": "execute_result"
    }
   ],
   "source": [
    "from sympyplus import *\n",
    "from sympy import Pow\n",
    "stage_ratio = 16/38\n",
    "power = 135 * u.hp\n",
    "speed_C = 1750 * stage_ratio**2 * u.rpm  # ~ 310.25 rpm\n",
    "\n",
    "teeth_4 = 38\n",
    "teeth_5 = 16\n",
    "dp = 3 / u.inch\n",
    "normal_pa = rad(20)\n",
    "helix_angle = rad(30)\n",
    "trans_pa = atan(tan(normal_pa)/cos(helix_angle)) # ϕ_t ~= 22.80\n",
    "\n",
    "S = 1 * u.inch\n",
    "B = 1 * u.inch\n",
    "F = 2 * u.inch\n",
    "\n",
    "pitch_velocity_4 = u.convert_to(speed_C * teeth_4/dp/2, [u.ft, u.min])\n",
    "tangent_load_34 = u.convert_to(power / pitch_velocity_4, [u.lbf])\n",
    "radial_load_34 = tangent_load_34 * tan(trans_pa)\n",
    "axial_load_34 = tangent_load_34 * tan(helix_angle)\n",
    "\n",
    "pitch_velocity_5 = u.convert_to(speed_C * teeth_5/dp/2, [u.ft, u.min])\n",
    "tangent_load_56 = u.convert_to(power / pitch_velocity_5, [u.lbf])\n",
    "radial_load_56 = -tangent_load_56 * tan(trans_pa)\n",
    "axial_load_56 = -tangent_load_56 * tan(helix_angle)\n",
    "\n",
    "# y direction (radial forces)\n",
    "# shaft C has three bearings, two gears, split shaft into two portions, left and right\n",
    "length_C_left = B + 3*S + 2*F\n",
    "length_C_right = B + 2*S + 1*F\n",
    "R_ay = -radial_load_34 * (B/2 + S + F/2) / length_C_left\n",
    "R_cy = -radial_load_56/2\n",
    "R_by = -radial_load_34 * (B/2 + 2*S + 3/2*F) / length_C_left - radial_load_56/2\n",
    "# sp.N(R_ay + radial_load_34 + R_by + radial_load_56 + R_cy) \n",
    "M_ymax = R_ay * (B/2 + 2*S + 3/2*F) + (R_ay+radial_load_34) * (B/2 + S + F/2) + (R_ay+radial_load_34+R_by) * (length_C_right/2)\n",
    "\n",
    "# z direction (tangent forces)\n",
    "R_az = -tangent_load_34 * (B/2 + S + F/2) / length_C_left\n",
    "R_cz = -tangent_load_56/2\n",
    "R_bz = -tangent_load_34 * (B/2 + 2*S + 3/2*F) / length_C_left - tangent_load_56/2\n",
    "\n",
    "sp.N(R_az + tangent_load_34 + R_bz + tangent_load_56 + R_cz)\n",
    "M_zmax = R_az * (B/2 + 2*S + 3/2*F) + (R_az + tangent_load_34) * (B/2 + S + F/2) + (R_az + tangent_load_34 + R_bz) * (length_C_right/2)\n",
    "\n",
    "T_C_max = tangent_load_56 * teeth_5 / dp / 2\n",
    "M_C_max = sqrt(M_ymax**2 + M_zmax**2)\n",
    "\n",
    "# critical point on shaft C is gear 5 (pinion)\n",
    "# figure out axial load and direction on bearing (R_b)\n",
    "bear_thrust_load_max_C = axial_load_34 - axial_load_56\n",
    "\n",
    "# Endurance limit calcultions\n",
    "S_ut = 68 # (ksi) start with cheap 1020 cd \n",
    "k_a = 2 * S_ut ** (-0.217) # CD\n",
    "k_b = 0.91 * 2 ** -0.157 # early guess of 2 in, forumula valid 2<d<10\n",
    "k_c = 1 # loading is not pure torsion\n",
    "k_d = 1 # high tempature is not a concern\n",
    "k_e = 0.897 # 90% reliablity\n",
    "S_ep = min(0.5 * S_ut, 100) # rotary-beam test specimen endurance limit\n",
    "S_e =  S_ep * k_a * k_b * k_c * k_d * k_e\n",
    "# DE-Goodman critera for infinite life\n",
    "# Testing point of gear 5 on shaft c\n",
    "K_f = 1.74\n",
    "K_fs = 2.4\n",
    "T_mC = T_C_max \n",
    "M_aC = M_C_max # For a rotating shaft, the constant bending moment will create a completely reversed bending stress\n",
    "A_ = sqrt(4*(K_f*M_aC)**2) # T_a = 0\n",
    "B_ = sqrt(3*(K_fs*T_mC)**2) # M_m = 0\n",
    "n = 1.25\n",
    "\n",
    "d = Pow(16*n/pi*(A_/S_e/u.ksi + B_/S_ut/u.ksi), Pow(3, -1)) # 7-8 [1]\n",
    "u.convert_to(d.simplify(), [u.inch]).evalf()\n",
    "# 3.05 inches\n",
    "\n",
    "# Try changing material to Ground 4140 Q&T steel\n",
    "S_ut = 225 \n",
    "k_a = 1.21 * S_ut ** (-0.067) \n",
    "S_ep = min(0.5 * S_ut, 100) \n",
    "S_e =  S_ep * k_a * k_b * k_c * k_d * k_e\n",
    "d = Pow(16*n/pi*(A_/S_e/u.ksi + B_/S_ut/u.ksi), Pow(3, -1)) # 7-8 [1]\n",
    "u.convert_to(d.simplify(), [u.inch]).evalf()\n"
   ]
  },
  {
   "cell_type": "markdown",
   "id": "f479cfdc",
   "metadata": {},
   "source": [
    "Now check shaft D with gear 6"
   ]
  },
  {
   "cell_type": "code",
   "execution_count": null,
   "id": "52911eeb",
   "metadata": {},
   "outputs": [
    {
     "data": {
      "image/png": "[encoded data removed]",
      "text/latex": [
       "$\\displaystyle 5937.57222794581 \\text{lbf}$"
      ],
      "text/plain": [
       "5937.57222794581⋅lbf"
      ]
     },
     "execution_count": 38,
     "metadata": {},
     "output_type": "execute_result"
    }
   ],
   "source": [
    "speed_D = 1750 * stage_ratio**3 * u.rpm  # ~ 130.6 rpm\n",
    "teeth_6 = 38\n",
    "\n",
    "pitch_velocity_6 = u.convert_to(speed_D * teeth_6/dp/2, [u.ft, u.min])\n",
    "tangent_load_56 = -u.convert_to(power / pitch_velocity_6, [u.lbf])\n",
    "radial_load_56 = -tangent_load_56 * tan(trans_pa)\n",
    "axial_load_56 = -tangent_load_56 * tan(helix_angle)\n",
    "\n",
    "# y direction (radial forces)\n",
    "# shaft D has two bearings, one gear, focus on internal part of shaft.\n",
    "length_D = B + 2*S + F\n",
    "R_y = -radial_load_56/2 # intermediate load\n",
    "\n",
    "M_ymax = R_y * length_D/2\n",
    "\n",
    "# z direction (tangent forces)\n",
    "R_z = -tangent_load_56/2 # intermediate load\n",
    "\n",
    "M_zmax = R_z * length_D/2\n",
    "\n",
    "T_D_max = tangent_load_56 * teeth_6 / dp / 2\n",
    "M_D_max = sqrt(M_ymax**2 + M_zmax**2)\n",
    "\n",
    "\n",
    "# DE-Goodman critera for infinite life\n",
    "# Testing point of gear 6 on shaft D\n",
    "T_mD = T_D_max \n",
    "M_aD = M_D_max\n",
    "A_ = sqrt(4*(K_f*M_aD)**2) # T_a = 0\n",
    "B_ = sqrt(3*(K_fs*T_mD)**2) # M_m = 0\n",
    "\n",
    "\n",
    "d = Pow(16*n/pi*(A_/S_e/u.ksi + B_/S_ut/u.ksi), Pow(3, -1)) # 7-8 [1]\n",
    "u.convert_to(d.simplify(), [u.inch]).evalf()\n",
    "# 2.40 inches\n"
   ]
  },
  {
   "cell_type": "markdown",
   "id": "7a638367",
   "metadata": {},
   "source": [
    "## Beam deflection and slope\n",
    "Use integral relationship to moment: $\\theta(x) = \\frac{1}{EI}\\int{Mdx}$"
   ]
  },
  {
   "cell_type": "code",
   "execution_count": 29,
   "id": "24bf59ea",
   "metadata": {},
   "outputs": [
    {
     "name": "stdout",
     "output_type": "stream",
     "text": [
      "0.5 in : 0.0000032 & 5.3E-7\n",
      "0 in : nan & nan\n",
      "5.5 in : 0.00039 & 0.00071\n",
      "8 in : 0.00056 & 0.0020\n",
      "10.5 in : 0.00086 & 0.0036\n",
      "13 in : 0.0012 & 0.0063\n"
     ]
    }
   ],
   "source": [
    "from sympy import symbols, Piecewise, simplify\n",
    "E = 30e6 # psi\n",
    "I = pi * 2.5**4 /64 # in^4\n",
    "\n",
    "x = symbols('x')\n",
    "points = x0, x1, x2, x3, x4 = 0, 5.5, 8, 10.5, 13  # Example critical points in inches\n",
    "\n",
    "# Linear expressions for each span (in*lbf)\n",
    "M1 = 8072 * (x - x0) / (x1 - x0)\n",
    "M2 = 8072 * (x2 - x) / (x2 - x1)\n",
    "M3 = 13944 * (x - x2) / (x3 - x2)\n",
    "M4 = 13944 * (x4 - x) / (x4 - x3)\n",
    "\n",
    "# Piecewise function for moment\n",
    "M_total = Piecewise(\n",
    "    (M1, (x >= x0) & (x < x1)),\n",
    "    (M2, (x >= x1) & (x < x2)),\n",
    "    (M3, (x >= x2) & (x < x3)),\n",
    "    (M4, (x >= x3) & (x <= x4))\n",
    ")\n",
    "\n",
    "M_total_simplified = simplify(M_total)\n",
    "theta = M_total_simplified.integrate(x) / E / I\n",
    "y = theta.integrate(x)\n",
    "\n",
    "# plot(y, theta)\n",
    "\n",
    "points = (0.5, *points)\n",
    "for x_val in points:\n",
    "    print(f'{x_val} in : {theta.subs({x: x_val}).evalf(2)} & {y.subs({x:x_val}).evalf(2)}')"
   ]
  }
 ],
 "metadata": {
  "kernelspec": {
   "display_name": "Python 3",
   "language": "python",
   "name": "python3"
  },
  "language_info": {
   "codemirror_mode": {
    "name": "ipython",
    "version": 3
   },
   "file_extension": ".py",
   "mimetype": "text/x-python",
   "name": "python",
   "nbconvert_exporter": "python",
   "pygments_lexer": "ipython3",
   "version": "3.13.0"
  }
 },
 "nbformat": 4,
 "nbformat_minor": 5
}
